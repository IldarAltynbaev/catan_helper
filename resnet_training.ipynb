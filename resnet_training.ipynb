{
 "cells": [
  {
   "cell_type": "code",
   "execution_count": 5,
   "metadata": {
    "_cell_guid": "dc322dd4-173d-49b4-90f6-8b49dea5c6ac",
    "_uuid": "c4048beb-b98b-4889-ae94-f0b6ab062f56",
    "collapsed": false,
    "execution": {
     "iopub.execute_input": "2024-11-26T08:36:32.649678Z",
     "iopub.status.busy": "2024-11-26T08:36:32.648983Z",
     "iopub.status.idle": "2024-11-26T08:36:32.668020Z",
     "shell.execute_reply": "2024-11-26T08:36:32.667106Z",
     "shell.execute_reply.started": "2024-11-26T08:36:32.649646Z"
    },
    "jupyter": {
     "outputs_hidden": false
    },
    "trusted": true
   },
   "outputs": [],
   "source": [
    "import numpy as np \n",
    "import pandas as pd \n",
    "from sklearn.model_selection import StratifiedKFold\n",
    "import os\n",
    "\n",
    "import torch\n",
    "import numpy as np\n",
    "import torchvision\n",
    "import matplotlib.pyplot as plt\n",
    "import time\n",
    "import copy\n",
    "import random\n",
    "from PIL import Image\n",
    "\n",
    "from torchvision import transforms, models\n",
    "from torchvision.transforms import functional\n",
    "from torch.utils.data import ConcatDataset\n",
    "from matplotlib.animation import FuncAnimation\n",
    "\n",
    "import shutil \n",
    "from tqdm import tqdm\n",
    "\n",
    "def set_random_seed(random_seed):\n",
    "    torch.manual_seed(random_seed)\n",
    "    random.seed(random_seed)\n",
    "    np.random.seed(random_seed)\n",
    "\n",
    "def fill_list_of_classes(wood_count, wheat_count, stone_count, sheep_count, brick_count):\n",
    "    list_of_classes = []\n",
    "    for i in range(wood_count):\n",
    "        list_of_classes.append(0)\n",
    "    for i in range(wheat_count):\n",
    "        list_of_classes.append(1)\n",
    "    for i in range(stone_count):\n",
    "        list_of_classes.append(2)\n",
    "    for i in range(sheep_count):\n",
    "        list_of_classes.append(3)\n",
    "    for i in range(brick_count):\n",
    "        list_of_classes.append(4)\n",
    "\n",
    "    return list_of_classes\n",
    "\n",
    "def fill_list_of_images(class_names, list_of_images):\n",
    "\n",
    "    for class_name in class_names:   \n",
    "        for file in os.listdir('/kaggle/input/catan-dataset/resources_dataset/resources_dataset/train/'\n",
    "                               +class_name):\n",
    "            file_name = os.fsdecode(file)\n",
    "            if (file.endswith(\".png\")):             \n",
    "                list_of_images.append(file_name)\n",
    "\n",
    "def count_files(path_dir):\n",
    "    cpt = sum([len(files) for r, d, files in os.walk(path_dir)])\n",
    "    wood_count = sum([len(files) for r, d, files in os.walk(path_dir + \"/wood\")])\n",
    "    wheat_count = sum([len(files) for r, d, files in os.walk(path_dir+ \"/wheat\")])\n",
    "    stone_count = sum([len(files) for r, d, files in os.walk(path_dir + \"/stone\")])\n",
    "    brick_count = sum([len(files) for r, d, files in os.walk(path_dir + \"/brick\")])\n",
    "    sheep_count = sum([len(files) for r, d, files in os.walk(path_dir + \"/sheep\")])\n",
    "    print(wood_count, wheat_count, stone_count, sheep_count, brick_count, cpt)\n",
    "    return wood_count, wheat_count, stone_count, sheep_count, brick_count\n",
    "\n",
    "def fill_val_folders(list_of_images,list_of_classes,train_dir,val_dir):\n",
    "    \n",
    "    strat_kfold = StratifiedKFold(n_splits=5, shuffle=True)\n",
    "    for fold, (train_ids, test_ids) in enumerate(strat_kfold.split(list_of_images,list_of_classes)):\n",
    "        \n",
    "        if fold == 0:\n",
    "            for each_id in test_ids:\n",
    "                if list_of_classes[each_id] == 0:\n",
    "                    shutil.move(train_dir + '/wood/'+list_of_images[each_id], val_dir+'/wood/'+list_of_images[each_id])    \n",
    "                elif list_of_classes[each_id] == 1:\n",
    "                    shutil.move(train_dir + '/wheat/'+list_of_images[each_id], val_dir+'/wheat/'+list_of_images[each_id])\n",
    "                elif list_of_classes[each_id] == 2:\n",
    "                    shutil.move(train_dir + '/stone/'+list_of_images[each_id], val_dir+'/stone/'+list_of_images[each_id])\n",
    "                elif list_of_classes[each_id] == 3:\n",
    "                    shutil.move(train_dir + '/sheep/'+list_of_images[each_id], val_dir+'/sheep/'+list_of_images[each_id])\n",
    "                elif list_of_classes[each_id] == 4:\n",
    "                    shutil.move(train_dir + '/brick/'+list_of_images[each_id], val_dir+'/brick/'+list_of_images[each_id])\n",
    "\n",
    "def create_blank_model(device, freeze_layers = True):\n",
    "    model = models.resnet34(pretrained=True)\n",
    "    if freeze_layers:\n",
    "        for param in model.parameters():\n",
    "            #if isinstance(param, torch.nn.Conv2d):\n",
    "                param.requires_grad = False\n",
    "\n",
    "    model.fc = torch.nn.Linear(model.fc.in_features, 5)    \n",
    "    model = model.to(device)\n",
    "    return model\n",
    "\n",
    "\n",
    "def create_train_transforms():\n",
    "\n",
    "    train_transforms = transforms.Compose([\n",
    "            transforms.Resize((224, 224)),\n",
    "            transforms.CenterCrop(60),\n",
    "            transforms.Resize((224, 224)),\n",
    "            transforms.RandomHorizontalFlip(),\n",
    "            transforms.ToTensor(),\n",
    "            transforms.Normalize([0.485, 0.456, 0.406], [0.229, 0.224, 0.225])\n",
    "            ])   \n",
    "    return train_transforms\n",
    "\n",
    "def create_val_transforms():\n",
    "    val_transforms = transforms.Compose([\n",
    "            transforms.Resize((224, 224)),\n",
    "            transforms.CenterCrop(60),\n",
    "            transforms.Resize((224, 224)),\n",
    "            transforms.ToTensor(),\n",
    "            transforms.Normalize([0.485, 0.456, 0.406], [0.229, 0.224, 0.225])\n",
    "        ])\n",
    "    return val_transforms\n",
    "\n",
    "\n",
    "def create_optimizer(model,learning_rate):\n",
    "    optimizer = torch.optim.Adam(model.parameters(), lr = learning_rate) \n",
    "    return optimizer\n",
    "    \n",
    "def create_scheduler(optimizer,step_size,gamma):\n",
    "    scheduler = torch.optim.lr_scheduler.StepLR(optimizer, step_size=step_size, gamma=gamma)\n",
    "    return optimizer\n",
    "\n",
    "\n",
    "def get_train_val_dataloaders(num_of_augmentaions,train_dir,val_dir,batch_size):\n",
    "    list_of_train_datasets = []        \n",
    "\n",
    "    for i in range(num_of_augmentaions):\n",
    "        \n",
    "        train_transforms = create_train_transforms()\n",
    "        train_dataset = torchvision.datasets.ImageFolder(train_dir,train_transforms)   \n",
    "        \n",
    "        list_of_train_datasets.append(train_dataset)\n",
    "            \n",
    "    train_dataset = ConcatDataset(list_of_train_datasets)\n",
    "\n",
    "    val_transforms = create_val_transforms()\n",
    "    val_dataset = torchvision.datasets.ImageFolder(val_dir, val_transforms)\n",
    "\n",
    "    train_dataloader = torch.utils.data.DataLoader(\n",
    "        train_dataset, batch_size=batch_size, shuffle=True, num_workers=batch_size)\n",
    "    val_dataloader = torch.utils.data.DataLoader(\n",
    "        val_dataset, batch_size=batch_size, shuffle=False, num_workers=batch_size,drop_last=True)\n",
    "\n",
    "    return train_dataloader, val_dataloader"
   ]
  },
  {
   "cell_type": "code",
   "execution_count": 6,
   "metadata": {
    "execution": {
     "iopub.execute_input": "2024-11-26T08:36:35.969276Z",
     "iopub.status.busy": "2024-11-26T08:36:35.968930Z",
     "iopub.status.idle": "2024-11-26T08:36:35.977580Z",
     "shell.execute_reply": "2024-11-26T08:36:35.976736Z",
     "shell.execute_reply.started": "2024-11-26T08:36:35.969245Z"
    },
    "trusted": true
   },
   "outputs": [],
   "source": [
    "def train_model(device,model, loss,optimizer, \n",
    "                scheduler,accuracy_history_train,accuracy_history_val,\n",
    "                epoch_history,train_dataloader,val_dataloader, num_epochs):    \n",
    "    best_val_acc = 0\n",
    "    best_train_acc = 0\n",
    "    for epoch in tqdm(range(num_epochs)):\n",
    "        \n",
    "        epoch_history.append(epoch)\n",
    "        #print('Epoch {}/{}:'.format(epoch, num_epochs - 1), flush=True)\n",
    "\n",
    "        # Each epoch has a training and validation phase\n",
    "        for phase in ['train', 'val']:\n",
    "            if phase == 'train':\n",
    "                dataloader = train_dataloader\n",
    "                scheduler.step()\n",
    "                model.train()  # Set model to training mode\n",
    "            else:\n",
    "                dataloader = val_dataloader\n",
    "                model.eval()   # Set model to evaluate mode\n",
    "\n",
    "            running_loss = 0.\n",
    "            running_acc = 0.\n",
    "\n",
    "            # Iterate over data.\n",
    "            for inputs, labels in dataloader:\n",
    "                inputs = inputs.to(device)\n",
    "                labels = labels.to(device)\n",
    "\n",
    "                optimizer.zero_grad()\n",
    "\n",
    "                # forward and backward\n",
    "                with torch.set_grad_enabled(phase == 'train'):\n",
    "                    preds = model(inputs)\n",
    "                    loss_value = loss(preds, labels)\n",
    "                    preds_class = preds.argmax(dim=1)\n",
    "\n",
    "                    # backward + optimize only if in training phase\n",
    "                    if phase == 'train':\n",
    "                        loss_value.backward()\n",
    "                        optimizer.step()\n",
    "\n",
    "                # statistics\n",
    "                running_loss += loss_value.item()\n",
    "                #print(preds_class)\n",
    "                #print(labels.data)\n",
    "                running_acc += (preds_class == labels.data).float().mean()\n",
    "\n",
    "            epoch_loss = running_loss / len(dataloader)\n",
    "            epoch_acc = running_acc / len(dataloader)\n",
    "            if phase == 'train':\n",
    "                accuracy_history_train.append(epoch_acc.item())\n",
    "            else:\n",
    "                if epoch_acc.item() >= best_val_acc:\n",
    "                    #print('best model - ' + str(epoch_acc.item()) + ' val accuracy')\n",
    "                    torch.save(model.state_dict(),\n",
    "                               '/kaggle/working/best_model.pt')\n",
    "                    best_val_acc = epoch_acc.item() \n",
    "                \n",
    "                    #print(model.state_dict())\n",
    "                    #best_model = model.state_dict()\n",
    "                accuracy_history_val.append(epoch_acc.item())\n",
    "\n",
    "            #print('{} Loss: {:.4f} Acc: {:.4f}'.format(phase, epoch_loss, epoch_acc), flush=True)\n",
    "\n",
    "    return model"
   ]
  },
  {
   "cell_type": "code",
   "execution_count": 8,
   "metadata": {
    "execution": {
     "iopub.execute_input": "2024-11-26T08:36:59.471801Z",
     "iopub.status.busy": "2024-11-26T08:36:59.470978Z",
     "iopub.status.idle": "2024-11-26T08:36:59.635355Z",
     "shell.execute_reply": "2024-11-26T08:36:59.634478Z",
     "shell.execute_reply.started": "2024-11-26T08:36:59.471765Z"
    },
    "trusted": true
   },
   "outputs": [
    {
     "name": "stdout",
     "output_type": "stream",
     "text": [
      "72 71 111 42 96 392\n",
      "72 71 111 42 96 392\n",
      "19 17 28 10 24 98\n"
     ]
    }
   ],
   "source": [
    "set_random_seed(0)\n",
    "\n",
    "train_dir = '/kaggle/input/catan-dataset/resources_dataset/resources_dataset/train'\n",
    "val_dir = '/kaggle/input/catan-dataset/resources_dataset/resources_dataset/val'\n",
    "batch_size = 8\n",
    "best_model = None\n",
    "\n",
    "device = torch.device(\"cuda:0\" if torch.cuda.is_available() else \"cpu\")\n",
    "list_of_images = []\n",
    "class_names = ['wood','wheat','stone','sheep','brick']\n",
    "wood_count, wheat_count, stone_count, sheep_count, brick_count = count_files(\n",
    "    '/kaggle/input/catan-dataset/resources_dataset/resources_dataset/train')\n",
    "\n",
    "list_of_classes = fill_list_of_classes(wood_count, wheat_count, stone_count, sheep_count, brick_count)\n",
    "fill_list_of_images(class_names, list_of_images)\n",
    "#fill_val_folders(list_of_images,list_of_classes,train_dir,val_dir)\n",
    "\n",
    "count_files('/kaggle/input/catan-dataset/resources_dataset/resources_dataset/train')\n",
    "count_files('/kaggle/input/catan-dataset/resources_dataset/resources_dataset/val')\n",
    "\n",
    "tr_transforms = create_train_transforms()\n",
    "learning_rate =1.0e-3\n",
    "step_size=7\n",
    "gamma=0.1\n",
    "model_name = 'Resnet34'\n",
    "model_freezed = 'except last layer'\n",
    "num_of_epochs = 60\n",
    "num_of_augmentaions = 1\n",
    "optimizer_name = 'Adam'\n",
    "\n",
    "train_dataloader,val_dataloader = get_train_val_dataloaders(num_of_augmentaions,\n",
    "                                                            train_dir,\n",
    "                                                            val_dir,\n",
    "                                                            batch_size)"
   ]
  },
  {
   "cell_type": "code",
   "execution_count": 9,
   "metadata": {
    "execution": {
     "iopub.execute_input": "2024-11-26T08:37:11.884658Z",
     "iopub.status.busy": "2024-11-26T08:37:11.883852Z",
     "iopub.status.idle": "2024-11-26T08:39:25.594943Z",
     "shell.execute_reply": "2024-11-26T08:39:25.593960Z",
     "shell.execute_reply.started": "2024-11-26T08:37:11.884623Z"
    },
    "trusted": true
   },
   "outputs": [
    {
     "name": "stderr",
     "output_type": "stream",
     "text": [
      "/opt/conda/lib/python3.10/site-packages/torchvision/models/_utils.py:208: UserWarning: The parameter 'pretrained' is deprecated since 0.13 and may be removed in the future, please use 'weights' instead.\n",
      "  warnings.warn(\n",
      "/opt/conda/lib/python3.10/site-packages/torchvision/models/_utils.py:223: UserWarning: Arguments other than a weight enum or `None` for 'weights' are deprecated since 0.13 and may be removed in the future. The current behavior is equivalent to passing `weights=ResNet34_Weights.IMAGENET1K_V1`. You can also use `weights=ResNet34_Weights.DEFAULT` to get the most up-to-date weights.\n",
      "  warnings.warn(msg)\n",
      "Downloading: \"https://download.pytorch.org/models/resnet34-b627a593.pth\" to /root/.cache/torch/hub/checkpoints/resnet34-b627a593.pth\n",
      "100%|██████████| 83.3M/83.3M [00:00<00:00, 205MB/s]\n",
      "100%|██████████| 60/60 [02:12<00:00,  2.20s/it]\n"
     ]
    },
    {
     "name": "stdout",
     "output_type": "stream",
     "text": [
      "0.9948979616165161\n",
      "0.9895833730697632\n"
     ]
    },
    {
     "data": {
      "image/png": "[encoded data removed]",
      "text/plain": [
       "<Figure size 2000x1200 with 1 Axes>"
      ]
     },
     "metadata": {},
     "output_type": "display_data"
    }
   ],
   "source": [
    "model = create_blank_model(device)\n",
    "loss = torch.nn.CrossEntropyLoss()  \n",
    "optimizer = create_optimizer(model,learning_rate)\n",
    "scheduler = create_scheduler(optimizer,step_size,gamma)\n",
    "train_dataloader,val_dataloader = get_train_val_dataloaders(num_of_augmentaions,\n",
    "                                                            train_dir,\n",
    "                                                            val_dir,\n",
    "                                                            batch_size)\n",
    "\n",
    "epoch_history = []\n",
    "accuracy_history_train = []\n",
    "accuracy_history_val = []\n",
    "train_model(device,model,\n",
    "            loss, \n",
    "            optimizer, \n",
    "            scheduler, \n",
    "            accuracy_history_train,\n",
    "            accuracy_history_val,\n",
    "            epoch_history,\n",
    "            train_dataloader,\n",
    "            val_dataloader,\n",
    "            num_of_epochs)\n",
    "\n",
    "print(max(accuracy_history_train))\n",
    "print(max(accuracy_history_val))\n",
    "plt.figure(figsize=(20,12))\n",
    "plt.plot(epoch_history ,accuracy_history_train,label = 'train')\n",
    "plt.plot(epoch_history ,accuracy_history_val,label = 'val')\n",
    "plt.legend()\n",
    "plt.show()"
   ]
  },
  {
   "cell_type": "code",
   "execution_count": null,
   "metadata": {
    "trusted": true
   },
   "outputs": [],
   "source": [
    "for ind, (inputs, labels) in enumerate(train_dataloader):\n",
    "    #print(inputs.shape)\n",
    "    y_onehot = torch.zeros(batch_size, len(class_names))\n",
    "    y_onehot.scatter_(1, labels.unsqueeze(dim=1), 1)\n",
    "    print(y_onehot)\n",
    "    print(y_onehot.shape)\n",
    "    print(labels)\n",
    "    break"
   ]
  },
  {
   "cell_type": "code",
   "execution_count": 2,
   "metadata": {},
   "outputs": [],
   "source": [
    "res = [2,2,3,5]\n",
    "\n",
    "    "
   ]
  },
  {
   "cell_type": "code",
   "execution_count": 10,
   "metadata": {},
   "outputs": [
    {
     "name": "stdout",
     "output_type": "stream",
     "text": [
      "2\n",
      "2\n",
      "3\n",
      "5\n"
     ]
    }
   ],
   "source": [
    "print('\\n'.join(str(x) for x in res))"
   ]
  }
 ],
 "metadata": {
  "kaggle": {
   "accelerator": "nvidiaTeslaT4",
   "dataSources": [
    {
     "datasetId": 5879683,
     "sourceId": 10010256,
     "sourceType": "datasetVersion"
    }
   ],
   "dockerImageVersionId": 30787,
   "isGpuEnabled": true,
   "isInternetEnabled": true,
   "language": "python",
   "sourceType": "notebook"
  },
  "kernelspec": {
   "display_name": "Python 3",
   "language": "python",
   "name": "python3"
  },
  "language_info": {
   "codemirror_mode": {
    "name": "ipython",
    "version": 3
   },
   "file_extension": ".py",
   "mimetype": "text/x-python",
   "name": "python",
   "nbconvert_exporter": "python",
   "pygments_lexer": "ipython3",
   "version": "3.11.8"
  }
 },
 "nbformat": 4,
 "nbformat_minor": 4
}
